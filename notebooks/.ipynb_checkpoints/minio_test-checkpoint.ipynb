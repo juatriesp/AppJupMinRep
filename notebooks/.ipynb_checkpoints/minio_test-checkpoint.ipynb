{
 "cells": [
  {
   "cell_type": "code",
   "execution_count": null,
   "id": "import-boto3",
   "metadata": {},
   "outputs": [],
   "source": [
    "import boto3\n",
    "from botocore.client import Config\n",
    "import os\n",
    "from pathlib import Path\n",
    "import uuid"
   ]
  },
  {
   "cell_type": "code",
   "execution_count": null,
   "id": "connect-client",
   "metadata": {},
   "outputs": [],
   "source": [
    "# Parámetros de conexión a MinIO\n",
    "minio_endpoint = \"minio:9000\"\n",
    "minio_access_key = \"admin\"\n",
    "minio_secret_key = \"admin123\"\n",
    "\n",
    "# Cliente S3 (boto3)\n",
    "s3 = boto3.client(\n",
    "    's3',\n",
    "    endpoint_url=f\"http://{minio_endpoint}\",\n",
    "    aws_access_key_id=minio_access_key,\n",
    "    aws_secret_access_key=minio_secret_key,\n",
    "    config=Config(signature_version='s3v4'),\n",
    "    region_name='us-east-1'\n",
    ")"
   ]
  },
  {
   "cell_type": "code",
   "execution_count": null,
   "id": "create-bucket",
   "metadata": {},
   "outputs": [],
   "source": [
    "# Crear bucket (si no existe)\n",
    "bucket_name = \"mis-pruebas\"\n",
    "\n",
    "existing_buckets = [b['Name'] for b in s3.list_buckets()['Buckets']]\n",
    "\n",
    "if bucket_name not in existing_buckets:\n",
    "    s3.create_bucket(Bucket=bucket_name)\n",
    "    print(f\"Bucket '{bucket_name}' creado.\")\n",
    "else:\n",
    "    print(f\"Bucket '{bucket_name}' ya existe.\")"
   ]
  },
  {
   "cell_type": "code",
   "execution_count": null,
   "id": "upload-file",
   "metadata": {},
   "outputs": [],
   "source": [
    "# Crear archivo de prueba\n",
    "local_file = Path(\"/home/jovyan/work/test_file.txt\")\n",
    "local_file.write_text(\"Este es un archivo de prueba generado por Jupyter y subido a MinIO.\")\n",
    "\n",
    "# Subir archivo al bucket\n",
    "object_key = f\"archivo-{uuid.uuid4()}.txt\"\n",
    "s3.upload_file(str(local_file), bucket_name, object_key)\n",
    "print(f\"Archivo subido a '{bucket_name}/{object_key}'\")"
   ]
  },
  {
   "cell_type": "code",
   "execution_count": null,
   "id": "list-objects",
   "metadata": {},
   "outputs": [],
   "source": [
    "# Listar objetos en el bucket\n",
    "response = s3.list_objects_v2(Bucket=bucket_name)\n",
    "\n",
    "if 'Contents' in response:\n",
    "    print(\"Archivos en el bucket:\")\n",
    "    for obj in response['Contents']:\n",
    "        print(\" -\", obj['Key'])\n",
    "else:\n",
    "    print(\"No hay archivos en el bucket.\")"
   ]
  }
 ],
 "metadata": {
  "kernelspec": {
   "display_name": "Python 3",
   "language": "python",
   "name": "python3"
  },
  "language_info": {
   "name": "python",
   "version": ""
  }
 },
 "nbformat": 4,
 "nbformat_minor": 5
}
