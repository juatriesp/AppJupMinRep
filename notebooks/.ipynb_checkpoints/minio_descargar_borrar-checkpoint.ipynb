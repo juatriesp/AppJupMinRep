{
 "cells": [
  {
   "cell_type": "code",
   "execution_count": null,
   "id": "import-boto3",
   "metadata": {},
   "outputs": [],
   "source": [
    "import boto3\n",
    "from botocore.client import Config\n",
    "from pathlib import Path\n",
    "import os"
   ]
  },
  {
   "cell_type": "code",
   "execution_count": null,
   "id": "connect-minio",
   "metadata": {},
   "outputs": [],
   "source": [
    "# Conectar con MinIO\n",
    "minio_endpoint = \"minio:9000\"\n",
    "access_key = \"admin\"\n",
    "secret_key = \"admin123\"\n",
    "\n",
    "s3 = boto3.client(\n",
    "    's3',\n",
    "    endpoint_url=f\"http://{minio_endpoint}\",\n",
    "    aws_access_key_id=access_key,\n",
    "    aws_secret_access_key=secret_key,\n",
    "    config=Config(signature_version='s3v4'),\n",
    "    region_name='us-east-1'\n",
    ")"
   ]
  },
  {
   "cell_type": "code",
   "execution_count": null,
   "id": "bucket-list",
   "metadata": {},
   "outputs": [],
   "source": [
    "# Listar objetos en el bucket\n",
    "bucket_name = \"mis-pruebas\"\n",
    "\n",
    "response = s3.list_objects_v2(Bucket=bucket_name)\n",
    "\n",
    "if 'Contents' in response:\n",
    "    print(\"Archivos en el bucket:\")\n",
    "    for obj in response['Contents']:\n",
    "        print(\" -\", obj['Key'])\n",
    "else:\n",
    "    print(\"No hay archivos en el bucket.\")"
   ]
  },
  {
   "cell_type": "code",
   "execution_count": null,
   "id": "download-object",
   "metadata": {},
   "outputs": [],
   "source": [
    "# Descargar un archivo específico\n",
    "object_key = input(\"Introduce el nombre del archivo que quieres descargar (copiar de la lista): \")\n",
    "download_path = Path(\"/home/jovyan/work/descargas\")\n",
    "download_path.mkdir(parents=True, exist_ok=True)\n",
    "\n",
    "file_path = download_path / object_key\n",
    "s3.download_file(bucket_name, object_key, str(file_path))\n",
    "print(f\"Archivo descargado en: {file_path}\")"
   ]
  },
  {
   "cell_type": "code",
   "execution_count": null,
   "id": "delete-object",
   "metadata": {},
   "outputs": [],
   "source": [
    "# Eliminar un archivo del bucket\n",
    "borrar = input(\"¿Quieres borrar ese archivo del bucket? (s/n): \")\n",
    "\n",
    "if borrar.lower() == 's':\n",
    "    s3.delete_object(Bucket=bucket_name, Key=object_key)\n",
    "    print(f\"Archivo '{object_key}' eliminado del bucket.\")\n",
    "else:\n",
    "    print(\"No se eliminó ningún archivo.\")"
   ]
  }
 ],
 "metadata": {
  "kernelspec": {
   "display_name": "Python 3",
   "language": "python",
   "name": "python3"
  },
  "language_info": {
   "name": "python",
   "version": ""
  }
 },
 "nbformat": 4,
 "nbformat_minor": 5
}
