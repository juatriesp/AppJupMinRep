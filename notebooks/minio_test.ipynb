{
 "cells": [
  {
   "cell_type": "code",
   "execution_count": 3,
   "id": "import-boto3",
   "metadata": {},
   "outputs": [],
   "source": [
    "import boto3\n",
    "from botocore.client import Config\n",
    "import os\n",
    "from pathlib import Path\n",
    "import uuid"
   ]
  },
  {
   "cell_type": "code",
   "execution_count": 4,
   "id": "connect-client",
   "metadata": {},
   "outputs": [],
   "source": [
    "# Parámetros de conexión a MinIO\n",
    "minio_endpoint = \"minio:9000\"\n",
    "minio_access_key = \"admin\"\n",
    "minio_secret_key = \"admin123\"\n",
    "\n",
    "# Cliente S3 (boto3)\n",
    "s3 = boto3.client(\n",
    "    's3',\n",
    "    endpoint_url=f\"http://{minio_endpoint}\",\n",
    "    aws_access_key_id=minio_access_key,\n",
    "    aws_secret_access_key=minio_secret_key,\n",
    "    config=Config(signature_version='s3v4'),\n",
    "    region_name='us-east-1'\n",
    ")"
   ]
  },
  {
   "cell_type": "code",
   "execution_count": 5,
   "id": "create-bucket",
   "metadata": {},
   "outputs": [
    {
     "name": "stdout",
     "output_type": "stream",
     "text": [
      "Bucket 'mis-pruebas' creado.\n"
     ]
    }
   ],
   "source": [
    "# Crear bucket (si no existe)\n",
    "bucket_name = \"mis-pruebas\"\n",
    "\n",
    "existing_buckets = [b['Name'] for b in s3.list_buckets()['Buckets']]\n",
    "\n",
    "if bucket_name not in existing_buckets:\n",
    "    s3.create_bucket(Bucket=bucket_name)\n",
    "    print(f\"Bucket '{bucket_name}' creado.\")\n",
    "else:\n",
    "    print(f\"Bucket '{bucket_name}' ya existe.\")"
   ]
  },
  {
   "cell_type": "code",
   "execution_count": 6,
   "id": "upload-file",
   "metadata": {},
   "outputs": [
    {
     "name": "stdout",
     "output_type": "stream",
     "text": [
      "Archivo subido a 'mis-pruebas/archivo-ad44c08d-22f5-4294-9d5d-c927ca8cfc7f.txt'\n"
     ]
    }
   ],
   "source": [
    "# Crear archivo de prueba\n",
    "local_file = Path(\"/home/jovyan/work/test_file.txt\")\n",
    "local_file.write_text(\"Este es un archivo de prueba generado por Jupyter y subido a MinIO.\")\n",
    "\n",
    "# Subir archivo al bucket\n",
    "object_key = f\"archivo-{uuid.uuid4()}.txt\"\n",
    "s3.upload_file(str(local_file), bucket_name, object_key)\n",
    "print(f\"Archivo subido a '{bucket_name}/{object_key}'\")"
   ]
  },
  {
   "cell_type": "code",
   "execution_count": 7,
   "id": "list-objects",
   "metadata": {},
   "outputs": [
    {
     "name": "stdout",
     "output_type": "stream",
     "text": [
      "Archivos en el bucket:\n",
      " - archivo-ad44c08d-22f5-4294-9d5d-c927ca8cfc7f.txt\n"
     ]
    }
   ],
   "source": [
    "# Listar objetos en el bucket\n",
    "response = s3.list_objects_v2(Bucket=bucket_name)\n",
    "\n",
    "if 'Contents' in response:\n",
    "    print(\"Archivos en el bucket:\")\n",
    "    for obj in response['Contents']:\n",
    "        print(\" -\", obj['Key'])\n",
    "else:\n",
    "    print(\"No hay archivos en el bucket.\")"
   ]
  },
  {
   "cell_type": "code",
   "execution_count": null,
   "id": "578e0c41-e67b-4920-8560-8f4afa25dff0",
   "metadata": {},
   "outputs": [],
   "source": []
  }
 ],
 "metadata": {
  "kernelspec": {
   "display_name": "Python 3 (ipykernel)",
   "language": "python",
   "name": "python3"
  },
  "language_info": {
   "codemirror_mode": {
    "name": "ipython",
    "version": 3
   },
   "file_extension": ".py",
   "mimetype": "text/x-python",
   "name": "python",
   "nbconvert_exporter": "python",
   "pygments_lexer": "ipython3",
   "version": "3.11.6"
  }
 },
 "nbformat": 4,
 "nbformat_minor": 5
}
